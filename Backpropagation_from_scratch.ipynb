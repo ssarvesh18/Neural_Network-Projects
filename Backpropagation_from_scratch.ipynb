{
 "cells": [
  {
   "cell_type": "code",
   "execution_count": 61,
   "metadata": {},
   "outputs": [],
   "source": [
    "from sklearn.datasets import load_digits\n",
    "import numpy as np\n",
    "import pandas as pd\n",
    "import math\n",
    "import random"
   ]
  },
  {
   "cell_type": "code",
   "execution_count": 62,
   "metadata": {},
   "outputs": [],
   "source": [
    "d=load_digits()\n",
    "dd=d.data[0:1000]\n",
    "dt=d.target[0:1000]\n",
    "p=pd.DataFrame(dd)\n",
    "q=pd.DataFrame(dt)"
   ]
  },
  {
   "cell_type": "code",
   "execution_count": 63,
   "metadata": {},
   "outputs": [],
   "source": [
    "def A(a):\n",
    "    return round(1/(1+math.exp(-a)),4)\n",
    "def AD(a):\n",
    "    return(A(a)*(1-A(a)))\n",
    "n=64\n",
    "a=.2\n",
    "b1=.2\n",
    "b2=.3"
   ]
  },
  {
   "cell_type": "code",
   "execution_count": 64,
   "metadata": {},
   "outputs": [],
   "source": [
    "w=[]\n",
    "for i in range(64*16):\n",
    "    w.append(random.uniform(0, 1))    ##input weight\n",
    "delw=[]\n",
    "for i in range(64*16):\n",
    "    delw.append(0)          ##### list of 0\n",
    "v=[]\n",
    "for i in range(16*10):      ### hidden layer weights\n",
    "    v.append(random.uniform(0, 1))\n",
    "zin=[]\n",
    "for i in range(16):         ### Zin input to the hidden layer\n",
    "    zin.append(0)\n",
    "z=[]\n",
    "for i in range(16):\n",
    "    z.append(0)                   \n",
    "yin=[]\n",
    "for i in range(10):\n",
    "    yin.append(0)\n",
    "y=[]\n",
    "for i in range(10):\n",
    "    y.append(0)\n",
    "error=[]\n",
    "for i in range(10):\n",
    "    error.append(0)\n",
    "delv=[]\n",
    "for i in range(16*10):\n",
    "    delv.append(0)\n",
    "error1=[]\n",
    "for i in range(16):\n",
    "    error1.append(0)\n",
    "w=np.array(w)\n",
    "w=w.reshape([16,64])\n",
    "v=np.array(v)\n",
    "v=v.reshape([10,16])\n",
    "zin=np.array(zin)\n",
    "zin=zin.reshape([1,16])\n",
    "z=np.array(z)\n",
    "z=z.reshape([1,16])\n",
    "yin=np.array(yin)\n",
    "yin=yin.reshape([1,10])\n",
    "y=np.array(yin)\n",
    "y=y.reshape([1,10])\n",
    "delv=np.array(delv)\n",
    "delv=delv.reshape([10,16])\n",
    "delw=np.array(delw)\n",
    "delw=delw.reshape([16,64])\n",
    "error1=np.array(error1)\n",
    "error1=error1.reshape([1,16])"
   ]
  },
  {
   "cell_type": "code",
   "execution_count": null,
   "metadata": {},
   "outputs": [],
   "source": [
    "for dp in range(len(dd)):  \n",
    "    for i in range(len(w)):\n",
    "        zin[0][i]=np.dot(dd[dp],np.transpose(w[i]))\n",
    "        z[0][i]=A(zin[0][i])\n",
    "    for i in range(len(v)):\n",
    "        yin[0][i]=np.dot(z[0],np.transpose(v[i]))\n",
    "        y[0][i]=A(yin[0][i])\n",
    "    for i in range(len(y[0])):\n",
    "        error[i]=dt[dp]-y[0][i]\n",
    "    for i in range(len(y[0])):\n",
    "        for j in range(len(delv[0])):\n",
    "            delv[i][j]=a*error[i]*(y[0][i])*(1-y[0][i])*(z[0][j])\n",
    "    v=v-delv\n",
    "    for i in range(len(z[0])):\n",
    "        s=0\n",
    "        for j in range(len(y[0])):\n",
    "            s=s+delv[j][i]\n",
    "        error1[0][i]=s\n",
    "    for i in range(len(zin[0])):\n",
    "        for j in range(len(dd[0])):\n",
    "            delw[i][j]=error1[0][i]*(1-z[0][i])*dd[0][j]\n",
    "    w=w-delw"
   ]
  },
  {
   "cell_type": "code",
   "execution_count": 85,
   "metadata": {},
   "outputs": [
    {
     "data": {
      "text/plain": [
       "array([[0.41739453, 0.4808303 , 0.02133291, ..., 0.67573005, 0.58846788,\n",
       "        0.46565079],\n",
       "       [0.3666702 , 0.38442995, 0.43998787, ..., 0.11160936, 0.6680927 ,\n",
       "        0.07853575],\n",
       "       [0.94385754, 0.48932032, 0.03437075, ..., 0.5869096 , 0.12710208,\n",
       "        0.08377126],\n",
       "       ...,\n",
       "       [0.54987668, 0.30352808, 0.048244  , ..., 0.57676844, 0.84230412,\n",
       "        0.65746813],\n",
       "       [0.23118352, 0.95008505, 0.56318206, ..., 0.57011453, 0.59966012,\n",
       "        0.07491799],\n",
       "       [0.7455806 , 0.59970981, 0.90410993, ..., 0.39618225, 0.76690971,\n",
       "        0.45768349]])"
      ]
     },
     "execution_count": 85,
     "metadata": {},
     "output_type": "execute_result"
    }
   ],
   "source": [
    "w"
   ]
  }
 ],
 "metadata": {
  "kernelspec": {
   "display_name": "Python 3",
   "language": "python",
   "name": "python3"
  },
  "language_info": {
   "codemirror_mode": {
    "name": "ipython",
    "version": 3
   },
   "file_extension": ".py",
   "mimetype": "text/x-python",
   "name": "python",
   "nbconvert_exporter": "python",
   "pygments_lexer": "ipython3",
   "version": "3.7.3"
  }
 },
 "nbformat": 4,
 "nbformat_minor": 2
}
