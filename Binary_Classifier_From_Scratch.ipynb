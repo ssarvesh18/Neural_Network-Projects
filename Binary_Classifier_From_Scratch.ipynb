{
 "cells": [
  {
   "cell_type": "code",
   "execution_count": 362,
   "metadata": {},
   "outputs": [],
   "source": [
    "import numpy as np\n",
    "import math\n",
    "import random"
   ]
  },
  {
   "cell_type": "code",
   "execution_count": 363,
   "metadata": {},
   "outputs": [],
   "source": [
    "##defining the activation function.\n",
    "def A(a):\n",
    "    return (1/(1+math.exp(-a)))"
   ]
  },
  {
   "cell_type": "code",
   "execution_count": 364,
   "metadata": {},
   "outputs": [],
   "source": [
    "db = np.loadtxt(\"F:\\\\neural\\\\duke-breast-cancer-dataset\\\\duke-breast-cancer.txt\")"
   ]
  },
  {
   "cell_type": "code",
   "execution_count": 365,
   "metadata": {},
   "outputs": [],
   "source": [
    "## taking out all the target data seperately before spitting to 70 - 16 train - test\n",
    "target=[]\n",
    "for i in range(len(db)):\n",
    "    target.append(db[i][0])"
   ]
  },
  {
   "cell_type": "code",
   "execution_count": 366,
   "metadata": {},
   "outputs": [],
   "source": [
    "## taking all the other attributes seperately before splitting to 70 - 16 train -test\n",
    "l=[]\n",
    "x=[]\n",
    "for i in range(len(db)):\n",
    "    for j in range(1,1729):\n",
    "        l.append(db[i][j])\n",
    "    x.append(l)\n",
    "    l=[]\n",
    "x=np.array(x)              \n",
    "x=x.reshape([86,1728])  "
   ]
  },
  {
   "cell_type": "code",
   "execution_count": 367,
   "metadata": {},
   "outputs": [],
   "source": [
    "## the network has 1728 input units , 72 hidden units and 1 ouutput unit. \n",
    "## no biases have been added\n",
    "##splitting the dataset into testing and training.\n",
    "xtrain=x[0:70]                   ##traing with 70 entries\n",
    "ytrain=target[0:70]              ## target value of those 70 entries\n",
    "xtest=x[70:86]                   ## testing with 16 entries\n",
    "ytest=target[70:86]              ## target value of those 16 entries\n",
    "\n",
    "##initializing the weights of both the layers and \n",
    "w=[]                    ## weight of input layer\n",
    "v=[]                    ## weight of hidden layer\n",
    "delv=[]                 ## change in weight of hidden layer\n",
    "\n",
    "for i in range(len(xtest[0])*72):     ## initializing weight of input layer to .03\n",
    "    w.append(.03)\n",
    "for i in range(72):                   ## initializing weight of hidden layer to .05\n",
    "    v.append(.05)\n",
    "##initializing the learning rate\n",
    "a=.2\n",
    "##initializing the input to the hidden layer and output after activation\n",
    "zin=[]                     ##input to hidden layer\n",
    "z=[]                       ##output of hidden layer after activation\n",
    "\n",
    "for i in range(72):             ## keepig the initial values as zero for  \n",
    "    zin.append(0)               ## for hidden layer inputs\n",
    "    z.append(0)                 ##  hidden layer outputs\n",
    "    delv.append(0)              ##  and change in hidden layer weights\n",
    "##converting all the weights,the input to hidden layer and output from the hidden layer as numpy arrays\n",
    "w=np.array(w)               ## converting input weights to numpy array\n",
    "w=w.reshape([72,1728])      ## resizin it for matrix multiplication\n",
    "v=np.array(v)               ## converting hidden layer weights to numpy array\n",
    "zin=np.array(zin)           ## converting hidden layer inputs to numpy array"
   ]
  },
  {
   "cell_type": "code",
   "execution_count": 368,
   "metadata": {},
   "outputs": [
    {
     "name": "stdout",
     "output_type": "stream",
     "text": [
      "** 1.0389391178564786 **\n"
     ]
    }
   ],
   "source": [
    "##training and weight updation (iterated the first 70 entries 6-7times for training)\n",
    "##from here to----\n",
    "error=0\n",
    "for p in range(len(xtrain)):                           ## finding input to hidden layer by matri mutiplication of input and one-\n",
    "    for i in range(72):                                ## row matrix. i.e. w[1][j] is the input to z1 hidden unit \n",
    "        zin[i]=np.dot(xtrain[p],np.transpose(w[i]))    ##  z1 in = sum(w[1][j]* x[j])... z2=sum(w[2][j]* x[j]) and so on.. \n",
    "        z[i]=A(zin[i])                                 ## applying activaiton function to all hidden layer inputs\n",
    "    yin=np.dot(z,np.transpose(v))                      ## finding input to output unit\n",
    "    y=A(yin)                                           ## applying activation to output unit\n",
    "    for i in range(72):                                \n",
    "        delv[i]=(ytrain[p]-y)*A(yin)*(1-A(yin))        ## finding change in weights of hidden layer\n",
    "        v[i]=v[i]+a*delv[i]*z[i]                       ## weight updation\n",
    "    for i in range(72):\n",
    "        for j in range(1728):                            \n",
    "             w[i][j]=w[i][j]+a*delv[i]*A(zin[i])*(1-A(zin[i]))*xtrain[0][j]       ## updating the weights of input units\n",
    "    error=error+.05*(ytrain[p]-y)**2                                              ## calculating total error \n",
    "print(\"**\",error,\"**\")\n",
    "##---- here iteration (each iteration takes around 1min 30 secs)"
   ]
  },
  {
   "cell_type": "code",
   "execution_count": 369,
   "metadata": {},
   "outputs": [
    {
     "name": "stdout",
     "output_type": "stream",
     "text": [
      "0 0.0\n",
      "1 1.0\n",
      "1 1.0\n",
      "1 1.0\n",
      "1 1.0\n",
      "0 1.0\n",
      "1 1.0\n",
      "1 1.0\n",
      "1 1.0\n",
      "1 0.0\n",
      "1 0.0\n",
      "1 0.0\n",
      "0 0.0\n",
      "0 0.0\n",
      "0 0.0\n",
      "0 0.0\n"
     ]
    }
   ],
   "source": [
    "##testing for the 16 test entries--\n",
    "for p in range(16):\n",
    "    for i in range(72):\n",
    "        zin[i]=np.dot(xtest[p],np.transpose(w[i]))\n",
    "        z[i]=A(zin[i])\n",
    "    yin=np.dot(z,np.transpose(v))\n",
    "    y=A(yin)\n",
    "    if y>.4:                                     ## if the final output comes out to be > 0.4 then it is considered as 1\n",
    "        print(\"1\",ytest[p])\n",
    "    else:\n",
    "        print(\"0\",ytest[p])                      ## else if it is less it is considered as zero\n",
    "## if tested after iterating the training data for around 6-7 times..(each iteration takes around 1min 30 secs) error reduces to around \n",
    "## 0.93. Then if then if the data is tested , i gives 14/16 acuracy"
   ]
  },
  {
   "cell_type": "code",
   "execution_count": null,
   "metadata": {},
   "outputs": [],
   "source": []
  },
  {
   "cell_type": "code",
   "execution_count": null,
   "metadata": {},
   "outputs": [],
   "source": []
  },
  {
   "cell_type": "code",
   "execution_count": null,
   "metadata": {},
   "outputs": [],
   "source": []
  },
  {
   "cell_type": "code",
   "execution_count": null,
   "metadata": {},
   "outputs": [],
   "source": []
  }
 ],
 "metadata": {
  "kernelspec": {
   "display_name": "Python 3",
   "language": "python",
   "name": "python3"
  },
  "language_info": {
   "codemirror_mode": {
    "name": "ipython",
    "version": 3
   },
   "file_extension": ".py",
   "mimetype": "text/x-python",
   "name": "python",
   "nbconvert_exporter": "python",
   "pygments_lexer": "ipython3",
   "version": "3.6.10"
  }
 },
 "nbformat": 4,
 "nbformat_minor": 2
}
