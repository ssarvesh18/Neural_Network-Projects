{
 "cells": [
  {
   "cell_type": "code",
   "execution_count": 3,
   "metadata": {},
   "outputs": [],
   "source": [
    "import numpy as np\n",
    "import pandas as pd"
   ]
  },
  {
   "cell_type": "code",
   "execution_count": 122,
   "metadata": {},
   "outputs": [],
   "source": [
    "from sklearn.datasets import load_breast_cancer\n",
    "from sklearn.cross_validation import train_test_split"
   ]
  },
  {
   "cell_type": "code",
   "execution_count": 134,
   "metadata": {},
   "outputs": [],
   "source": [
    "from sklearn.preprocessing import StandardScaler"
   ]
  },
  {
   "cell_type": "code",
   "execution_count": 135,
   "metadata": {},
   "outputs": [],
   "source": [
    "from sklearn.neural_network import MLPClassifier"
   ]
  },
  {
   "cell_type": "code",
   "execution_count": 136,
   "metadata": {},
   "outputs": [],
   "source": [
    "cancer=load_breast_cancer()"
   ]
  },
  {
   "cell_type": "code",
   "execution_count": 137,
   "metadata": {},
   "outputs": [],
   "source": [
    "x_train,x_test,y_train,y_test=train_test_split(cancer.data,cancer.target,random_state=42,train_size=.7,stratify=cancer.target)"
   ]
  },
  {
   "cell_type": "code",
   "execution_count": 138,
   "metadata": {},
   "outputs": [],
   "source": [
    "scaler=StandardScaler()\n",
    "x_train_scaled=scaler.fit_transform(x_train)\n",
    "x_test_scaled=scaler.fit_transform(x_test)"
   ]
  },
  {
   "cell_type": "code",
   "execution_count": 151,
   "metadata": {},
   "outputs": [],
   "source": [
    "clf=MLPClassifier(max_iter=1000,alpha=.1)"
   ]
  },
  {
   "cell_type": "code",
   "execution_count": 152,
   "metadata": {},
   "outputs": [
    {
     "data": {
      "text/plain": [
       "MLPClassifier(activation='relu', alpha=0.1, batch_size='auto', beta_1=0.9,\n",
       "       beta_2=0.999, early_stopping=False, epsilon=1e-08,\n",
       "       hidden_layer_sizes=(100,), learning_rate='constant',\n",
       "       learning_rate_init=0.001, max_iter=1000, momentum=0.9,\n",
       "       nesterovs_momentum=True, power_t=0.5, random_state=None,\n",
       "       shuffle=True, solver='adam', tol=0.0001, validation_fraction=0.1,\n",
       "       verbose=False, warm_start=False)"
      ]
     },
     "execution_count": 152,
     "metadata": {},
     "output_type": "execute_result"
    }
   ],
   "source": [
    "clf.fit(x_train_scaled,y_train)"
   ]
  },
  {
   "cell_type": "code",
   "execution_count": 153,
   "metadata": {},
   "outputs": [
    {
     "data": {
      "text/plain": [
       "0.992462311557789"
      ]
     },
     "execution_count": 153,
     "metadata": {},
     "output_type": "execute_result"
    }
   ],
   "source": [
    "clf.score(x_train_scaled,y_train)"
   ]
  },
  {
   "cell_type": "code",
   "execution_count": 154,
   "metadata": {},
   "outputs": [
    {
     "data": {
      "text/plain": [
       "0.9649122807017544"
      ]
     },
     "execution_count": 154,
     "metadata": {},
     "output_type": "execute_result"
    }
   ],
   "source": [
    "clf.score(x_test_scaled,y_test)"
   ]
  },
  {
   "cell_type": "code",
   "execution_count": 159,
   "metadata": {},
   "outputs": [
    {
     "data": {
      "text/plain": [
       "array([[ 0.28330832],\n",
       "       [-0.10718395],\n",
       "       [-0.18411346],\n",
       "       [ 0.15017809],\n",
       "       [ 0.27420787],\n",
       "       [ 0.28515128],\n",
       "       [ 0.17051799],\n",
       "       [ 0.25103411],\n",
       "       [ 0.25509834],\n",
       "       [-0.24383408],\n",
       "       [ 0.1847445 ],\n",
       "       [-0.17703236],\n",
       "       [-0.2196871 ],\n",
       "       [ 0.18605091],\n",
       "       [-0.09010826],\n",
       "       [-0.19865401],\n",
       "       [-0.29972774],\n",
       "       [ 0.07493513],\n",
       "       [ 0.18436599],\n",
       "       [ 0.27501607],\n",
       "       [-0.30028759],\n",
       "       [ 0.11116418],\n",
       "       [-0.35687087],\n",
       "       [ 0.30296708],\n",
       "       [ 0.25812798],\n",
       "       [-0.02714522],\n",
       "       [ 0.24083578],\n",
       "       [ 0.11318877],\n",
       "       [ 0.13867871],\n",
       "       [-0.21245601],\n",
       "       [-0.21160333],\n",
       "       [ 0.41517081],\n",
       "       [-0.17662171],\n",
       "       [-0.22228025],\n",
       "       [-0.13191844],\n",
       "       [-0.35094104],\n",
       "       [-0.40697556],\n",
       "       [ 0.31324   ],\n",
       "       [-0.02178469],\n",
       "       [-0.04381402],\n",
       "       [ 0.31611091],\n",
       "       [ 0.09778972],\n",
       "       [ 0.19244766],\n",
       "       [-0.34653552],\n",
       "       [ 0.32137294],\n",
       "       [-0.03374668],\n",
       "       [ 0.22689968],\n",
       "       [-0.22438052],\n",
       "       [-0.16000552],\n",
       "       [ 0.14830577],\n",
       "       [-0.31913615],\n",
       "       [-0.17765825],\n",
       "       [ 0.22732976],\n",
       "       [ 0.17741688],\n",
       "       [ 0.27045025],\n",
       "       [ 0.08412113],\n",
       "       [ 0.24961734],\n",
       "       [ 0.25098561],\n",
       "       [ 0.30806997],\n",
       "       [ 0.20094297],\n",
       "       [ 0.03770988],\n",
       "       [ 0.20013927],\n",
       "       [-0.33706467],\n",
       "       [-0.16138589],\n",
       "       [-0.40014474],\n",
       "       [-0.35949052],\n",
       "       [-0.26595876],\n",
       "       [-0.23420262],\n",
       "       [-0.35622888],\n",
       "       [ 0.22460946],\n",
       "       [ 0.11764835],\n",
       "       [ 0.01113215],\n",
       "       [-0.23197731],\n",
       "       [ 0.00355512],\n",
       "       [-0.39426968],\n",
       "       [-0.2108351 ],\n",
       "       [ 0.10144697],\n",
       "       [-0.34231613],\n",
       "       [-0.08386531],\n",
       "       [-0.21838762],\n",
       "       [-0.10740362],\n",
       "       [-0.1160045 ],\n",
       "       [ 0.09513128],\n",
       "       [ 0.1709409 ],\n",
       "       [ 0.29932139],\n",
       "       [-0.16921137],\n",
       "       [-0.29640613],\n",
       "       [-0.26315767],\n",
       "       [ 0.24943888],\n",
       "       [-0.34276312],\n",
       "       [-0.24643563],\n",
       "       [ 0.15099816],\n",
       "       [ 0.18683012],\n",
       "       [ 0.04155202],\n",
       "       [-0.21508638],\n",
       "       [ 0.17184399],\n",
       "       [ 0.01896495],\n",
       "       [-0.24356214],\n",
       "       [-0.34164924],\n",
       "       [ 0.15920466]])"
      ]
     },
     "execution_count": 159,
     "metadata": {},
     "output_type": "execute_result"
    }
   ],
   "source": [
    "clf.coefs_[1]"
   ]
  },
  {
   "cell_type": "code",
   "execution_count": null,
   "metadata": {},
   "outputs": [],
   "source": []
  }
 ],
 "metadata": {
  "kernelspec": {
   "display_name": "Python 3",
   "language": "python",
   "name": "python3"
  },
  "language_info": {
   "codemirror_mode": {
    "name": "ipython",
    "version": 3
   },
   "file_extension": ".py",
   "mimetype": "text/x-python",
   "name": "python",
   "nbconvert_exporter": "python",
   "pygments_lexer": "ipython3",
   "version": "3.7.3"
  }
 },
 "nbformat": 4,
 "nbformat_minor": 2
}
